{
 "cells": [
  {
   "cell_type": "markdown",
   "metadata": {},
   "source": [
    "#### Chapter 3"
   ]
  },
  {
   "cell_type": "code",
   "execution_count": null,
   "metadata": {},
   "outputs": [],
   "source": [
    "#3.1\n",
    "question=eval(input(\"temperature in fahrenheit: \"))\n",
    "print(question)\n",
    "cel=(5/9)*(question-32)\n",
    "print(\"temp in degree celsius is\",cel)"
   ]
  },
  {
   "cell_type": "code",
   "execution_count": null,
   "metadata": {},
   "outputs": [],
   "source": [
    "#3.2\n",
    "age=eval(input(\"Age: \"))\n",
    "if age>62:\n",
    "    print(\"You can get your pension benefits\")"
   ]
  },
  {
   "cell_type": "code",
   "execution_count": null,
   "metadata": {},
   "outputs": [],
   "source": [
    "#3.3 (a)\n",
    "year=eval(input(\"Year: \"))\n",
    "if year%4==0:\n",
    "    print(year,\"could be a leap year\")\n",
    "else:\n",
    "    print(year,\"Definitely not a leap year\")"
   ]
  },
  {
   "cell_type": "code",
   "execution_count": null,
   "metadata": {},
   "outputs": [],
   "source": [
    "#3.3 (b)\n",
    "ticket=[1,2,3,4]\n",
    "lottery=eval(input(\"Lottery number: \"))\n",
    "if lottery in ticket:\n",
    "    print(\"You won\")\n",
    "else:\n",
    "    print(\"Better luck next time\")"
   ]
  },
  {
   "cell_type": "code",
   "execution_count": null,
   "metadata": {},
   "outputs": [],
   "source": [
    "#3.4\n",
    "names= ['joe', 'sue','hani', 'sophie']\n",
    "loginid=input(\"Login id : \")\n",
    "if loginid in names:\n",
    "    print(\"Login :\",loginid)\n",
    "    print(\"You are in\")\n",
    "else:\n",
    "    print(\"User unknown\")\n",
    "print(\"Done\")"
   ]
  },
  {
   "cell_type": "code",
   "execution_count": null,
   "metadata": {},
   "outputs": [],
   "source": [
    "#3.5\n",
    "words=eval(input(\"Word list : \"))\n",
    "for word in words:\n",
    "    if len(word)==4:\n",
    "        print(word)"
   ]
  },
  {
   "cell_type": "code",
   "execution_count": null,
   "metadata": {},
   "outputs": [],
   "source": [
    "#3.6\n",
    "for i in range(10):\n",
    "    print(i)\n",
    "for l in range(2):\n",
    "    print(l)"
   ]
  },
  {
   "cell_type": "code",
   "execution_count": 4,
   "metadata": {},
   "outputs": [],
   "source": [
    "#3.7\n",
    "a= range(3, 13)\n",
    "b=range(0, 10,2) \n",
    "c=range(0, 24,3) \n",
    "d=range(3,12,5)"
   ]
  },
  {
   "cell_type": "code",
   "execution_count": null,
   "metadata": {},
   "outputs": [],
   "source": [
    "#3.8\n",
    "import math\n",
    "def perimeter(peri):\n",
    "    return 2*peri*math.pi\n",
    "perimeter(2)\n"
   ]
  },
  {
   "cell_type": "code",
   "execution_count": null,
   "metadata": {},
   "outputs": [],
   "source": [
    "#3.9\n",
    "def average(x,y):\n",
    "    return (x+y)/2\n",
    "average(2,3)"
   ]
  },
  {
   "cell_type": "code",
   "execution_count": 5,
   "metadata": {},
   "outputs": [
    {
     "data": {
      "text/plain": [
       "False"
      ]
     },
     "execution_count": 5,
     "metadata": {},
     "output_type": "execute_result"
    }
   ],
   "source": [
    "#3.10\n",
    "def novowel(word):\n",
    "    for i in word:\n",
    "        if i in \"aeiouAEIOU\":\n",
    "            return False\n",
    "    return True\n",
    "novowel(\"car\")    "
   ]
  },
  {
   "cell_type": "code",
   "execution_count": 8,
   "metadata": {},
   "outputs": [
    {
     "data": {
      "text/plain": [
       "False"
      ]
     },
     "execution_count": 8,
     "metadata": {},
     "output_type": "execute_result"
    }
   ],
   "source": [
    "#3.11\n",
    "def allEven(numList):\n",
    "    for num in numList:\n",
    "        if num%2 != 0:\n",
    "            return False\n",
    "    return True\n",
    "allEven([1,2,3,4])"
   ]
  },
  {
   "cell_type": "code",
   "execution_count": null,
   "metadata": {},
   "outputs": [],
   "source": []
  },
  {
   "cell_type": "markdown",
   "metadata": {},
   "source": [
    "#### Chapter 4"
   ]
  },
  {
   "cell_type": "code",
   "execution_count": 26,
   "metadata": {},
   "outputs": [
    {
     "name": "stdout",
     "output_type": "stream",
     "text": [
      "234\n",
      "78\n",
      "1234567\n",
      "0123\n",
      "789\n"
     ]
    }
   ],
   "source": [
    "#4.1\n",
    "s = '0123456789'\n",
    "print(s[2:5])\n",
    "print(s[-3:-1])\n",
    "print(s[1:8])\n",
    "print(s[:4])\n",
    "print(s[7:])\n"
   ]
  },
  {
   "cell_type": "code",
   "execution_count": null,
   "metadata": {},
   "outputs": [],
   "source": [
    "#4.2\n",
    "forecast = 'It will be a sunny day today'\n",
    "\n",
    "# (a) Assign to variable count the number of occurrences of 'day' in forecast\n",
    "count = forecast.count('day')\n",
    "\n",
    "# (b) Assign to variable weather the index where 'sunny' starts\n",
    "weather = forecast.find('sunny')\n",
    "\n",
    "# (c) Assign to variable change a copy of forecast where 'sunny' is replaced by 'cloudy'\n",
    "change = forecast.replace('sunny', 'cloudy')\n"
   ]
  },
  {
   "cell_type": "code",
   "execution_count": null,
   "metadata": {},
   "outputs": [],
   "source": [
    "#4.3\n",
    "firstname=input(\"name: \")\n",
    "lastname=input(\"name: \")\n",
    "print(\"hello\",firstname+\" \"+lastname+\"!\",\"You just delved into python.\")\n",
    "\n",
    "\n",
    "def greet(firstname,lastname):\n",
    "    return(\"hello\"+\" \"+firstname+\" \"+lastname+\"! You just delved into python.\")\n",
    "firstname=input(\"name: \")\n",
    "lastname=input(\"name: \")\n",
    "print(greet(firstname,lastname))\n"
   ]
  },
  {
   "cell_type": "code",
   "execution_count": null,
   "metadata": {},
   "outputs": [],
   "source": [
    "#4.4\n",
    "def even(n):\n",
    "    result = []\n",
    "    for i in range(2, n + 1):\n",
    "        if i % 2 == 0 or i % 3 == 0:\n",
    "            result.append(str(i))\n",
    "    print(\", \".join(result))\n",
    "even(17)"
   ]
  },
  {
   "cell_type": "code",
   "execution_count": 12,
   "metadata": {},
   "outputs": [
    {
     "data": {
      "text/plain": [
       "[['DeMoines', 'Jim', 'Sophomore', 3.45],\n",
       " ['Pierre', 'Sophie', 'Sophomore', 4.0],\n",
       " ['Columbus', 'Maria', 'Senior', 2.5],\n",
       " ['Phoenix', 'River', 'Junior', 2.45],\n",
       " ['Olympis', 'Edgar', 'Junior', 3.99]]"
      ]
     },
     "execution_count": 12,
     "metadata": {},
     "output_type": "execute_result"
    }
   ],
   "source": [
    "#4.6\n",
    "students=[]\n",
    "students.append(['DeMoines', 'Jim', 'Sophomore', 3.45])\n",
    "students.append(['Pierre', 'Sophie', 'Sophomore', 4.0])\n",
    "students.append(['Columbus', 'Maria', 'Senior', 2.5])\n",
    "students.append(['Phoenix', 'River', 'Junior', 2.45])\n",
    "students.append(['Olympis', 'Edgar', 'Junior', 3.99])\n",
    "students"
   ]
  },
  {
   "cell_type": "code",
   "execution_count": 211,
   "metadata": {},
   "outputs": [],
   "source": [
    "def numcharacters(infile):\n",
    "    infile=open(\"C:/Users/ANAVADYA/Downloads/hello navani.txt\")\n",
    "    content=infile.read()\n",
    "    count=len(content)\n",
    "    infile.close()\n",
    "    return count"
   ]
  },
  {
   "cell_type": "code",
   "execution_count": 212,
   "metadata": {},
   "outputs": [
    {
     "data": {
      "text/plain": [
       "24"
      ]
     },
     "execution_count": 212,
     "metadata": {},
     "output_type": "execute_result"
    }
   ],
   "source": [
    "numcharacters(infile)"
   ]
  },
  {
   "cell_type": "code",
   "execution_count": 1,
   "metadata": {},
   "outputs": [],
   "source": [
    "#4.8\n",
    "def stringCount(file_name,string):\n",
    "    file=open(file_name,\"r\")\n",
    "    content=file.read()\n",
    "    string_count=content.count(string)\n",
    "    file.close()\n",
    "    return string_count    "
   ]
  },
  {
   "cell_type": "code",
   "execution_count": 3,
   "metadata": {},
   "outputs": [
    {
     "data": {
      "text/plain": [
       "2"
      ]
     },
     "execution_count": 3,
     "metadata": {},
     "output_type": "execute_result"
    }
   ],
   "source": [
    "file_name=\"C:/Users/ANAVADYA/Downloads/hello navani.txt\"\n",
    "stringCount(file_name,\"l\")"
   ]
  },
  {
   "cell_type": "code",
   "execution_count": 3,
   "metadata": {},
   "outputs": [
    {
     "data": {
      "text/plain": [
       "['hii', 'navani,', 'hope', 'u', 'r', 'doing', 'well.', 'ashi.']"
      ]
     },
     "execution_count": 3,
     "metadata": {},
     "output_type": "execute_result"
    }
   ],
   "source": [
    "def words(file):\n",
    "    file=open(\"C:/Users/ANAVADYA/Downloads/hello navani.txt\")\n",
    "    content=file.read()\n",
    "    word=content.split()\n",
    "    file.close()\n",
    "    return word\n",
    "words(\"C:/Users/ANAVADYA/Downloads/hello navani.txt\",)"
   ]
  },
  {
   "cell_type": "code",
   "execution_count": 4,
   "metadata": {},
   "outputs": [
    {
     "name": "stdout",
     "output_type": "stream",
     "text": [
      "3\n"
     ]
    },
    {
     "data": {
      "text/plain": [
       "['hii navani,\\n', 'hope u r doing well.\\n', 'ashi.']"
      ]
     },
     "execution_count": 4,
     "metadata": {},
     "output_type": "execute_result"
    }
   ],
   "source": [
    "def numlines(file):\n",
    "    file=open(\"C:/Users/ANAVADYA/Downloads/hello navani.txt\")\n",
    "    content=file.readlines()\n",
    "    file.close()\n",
    "    print(len(content))\n",
    "    return content\n",
    "numlines(\"C:/Users/ANAVADYA/Downloads/hello navani.txt\",)"
   ]
  },
  {
   "cell_type": "code",
   "execution_count": 81,
   "metadata": {},
   "outputs": [
    {
     "name": "stdout",
     "output_type": "stream",
     "text": [
      "Hello navani \n",
      "\n",
      "hope u r doing well navani \n",
      "by\n",
      "Ashitha\n"
     ]
    }
   ],
   "source": [
    "#4.9\n",
    "punct=[\".\",\",\",\"?\",\"!\",\":\",\";\"]\n",
    "def  words(file):\n",
    "    file=open(\"C:/Users/ANAVADYA/Downloads/hello navani.txt\",'r')\n",
    "    content=file.read()\n",
    "    for pun in punct:\n",
    "        if pun in content:\n",
    "            content=content.replace(pun,\"\")\n",
    "    file.close()\n",
    "    print(content)\n",
    "words(\"C:/Users/ANAVADYA/Downloads/hello navani.txt\")\n",
    "    "
   ]
  },
  {
   "cell_type": "code",
   "execution_count": 21,
   "metadata": {},
   "outputs": [
    {
     "name": "stdout",
     "output_type": "stream",
     "text": [
      "['hii', 'navani,', 'hope', 'u', 'r', 'doing', 'well.', 'ashi.']\n",
      ", navani,\n",
      ". well.\n",
      ". ashi.\n",
      "['hii', 'navani', 'navani', 'hope', 'u', 'r', 'doing', 'well', 'well', 'ashi', 'ashi']\n"
     ]
    }
   ],
   "source": [
    "#4.9\n",
    "pun=[\".\",\",\",\"?\",\"!\"]\n",
    "def  words(file):\n",
    "    file=open(\"C:/Users/ANAVADYA/Downloads/hello navani.txt\",'r')\n",
    "    content=file.read()\n",
    "    con=content.split()\n",
    "    print(con)\n",
    "    output_list=[]\n",
    "    for word in con:\n",
    "        for letter in word:\n",
    "            if letter in pun:\n",
    "                print(letter,word)\n",
    "                word=word.replace(letter,\"\")\n",
    "                output_list.append(word)\n",
    "            \n",
    "        output_list.append(word)\n",
    "    print(output_list)\n",
    "words(\"C:/Users/ANAVADYA/Downloads/hello navani.txt\")  "
   ]
  },
  {
   "cell_type": "code",
   "execution_count": 30,
   "metadata": {},
   "outputs": [
    {
     "name": "stdout",
     "output_type": "stream",
     "text": [
      "['hii', 'navani', 'hope', 'u', 'r', 'doing', 'well', 'ashi']\n"
     ]
    }
   ],
   "source": [
    "pun=[\".\",\",\",\"?\",\"!\"]\n",
    "def  words(file_path):\n",
    "    file=open(file_path,'r')\n",
    "    content=file.read()\n",
    "    for i in pun:\n",
    "        content=content.replace(i,\"\")\n",
    "    return content.split()\n",
    "word_list=words(\"C:/Users/ANAVADYA/Downloads/hello navani.txt\")\n",
    "print(word_list)"
   ]
  },
  {
   "cell_type": "code",
   "execution_count": 109,
   "metadata": {},
   "outputs": [
    {
     "name": "stdout",
     "output_type": "stream",
     "text": [
      "Hello navani  \n",
      "\n",
      "hope u r doing well navani  \n",
      "by \n",
      "Ashitha\n"
     ]
    }
   ],
   "source": [
    "#4.9\n",
    "def words(file):\n",
    "    file=open(\"C:/Users/ANAVADYA/Downloads/hello navani.txt\",'r')\n",
    "    content=file.read()\n",
    "    table = str.maketrans('!,.:;?', 6*' ')\n",
    "    content=content.translate(table)\n",
    "    file.close()\n",
    "    print(content)\n",
    "    \n",
    "\n",
    "\n",
    " \n",
    "words(\"C:/Users/ANAVADYA/Downloads/hello navani.txt\")"
   ]
  },
  {
   "cell_type": "code",
   "execution_count": 10,
   "metadata": {},
   "outputs": [
    {
     "data": {
      "text/plain": [
       "14"
      ]
     },
     "execution_count": 10,
     "metadata": {},
     "output_type": "execute_result"
    }
   ],
   "source": [
    "file=open(\"C:/Users/ANAVADYA/Downloads/u r welcome.txt\",\"w\")\n",
    "file.write(\"hello\\nnavanii\")\n",
    "file.write(\"where are you?\")"
   ]
  },
  {
   "cell_type": "code",
   "execution_count": 9,
   "metadata": {},
   "outputs": [],
   "source": [
    "#4.10\n",
    "def  myGrep(file,target_string):\n",
    "    file=open(\"C:/Users/ANAVADYA/Downloads/hello navani.txt\",'r')\n",
    "    content=file.readlines()\n",
    "    for line in content:\n",
    "        if target_string in line:\n",
    "            print(line)\n",
    "        file.close()\n",
    "    \n",
    "   \n",
    "myGrep(\"C:/Users/ANAVADYA/Downloads/hello navani.txt\",\"hello\")   "
   ]
  },
  {
   "cell_type": "code",
   "execution_count": 3,
   "metadata": {},
   "outputs": [
    {
     "name": "stdout",
     "output_type": "stream",
     "text": [
      "bcd abc defghijklmnopqrstuvw wxy wxyz\n"
     ]
    }
   ],
   "source": [
    "#4.12\n",
    "s = 'abcdefghijklmnopqrstuvwxyz'#'abc', 'defghijklmnopqrstuvwx', 'wxy', and 'wxyz'\n",
    "s[:3]\n",
    "s[3:]\n",
    "\n",
    "expr1 = s[1:4] \n",
    "\n",
    "\n",
    "expr2 = s[:3]  \n",
    "\n",
    "\n",
    "expr3 = s[3:23]  \n",
    "\n",
    "\n",
    "expr4 = s[22:25]  \n",
    "\n",
    "\n",
    "expr5 = s[22:]  \n",
    "\n",
    "\n",
    "print(expr1, expr2, expr3, expr4, expr5)"
   ]
  },
  {
   "cell_type": "code",
   "execution_count": 2,
   "metadata": {},
   "outputs": [
    {
     "name": "stdout",
     "output_type": "stream",
     "text": [
      "True True True False\n"
     ]
    }
   ],
   "source": [
    "#4.13\n",
    "s = 'abcdefghijklmnopqrstuvwxyz'\n",
    "a = s[1:3] == 'bc'\n",
    "\n",
    "\n",
    "b = s[:14] == 'abcdefghijklmn'\n",
    "\n",
    "\n",
    "c = s[14:] == 'opqrstuvwxyz'\n",
    "\n",
    "d = s[1:-1] == 'bcdefghijklmnopqrstuvw'\n",
    "\n",
    "print(a, b, c, d)"
   ]
  }
 ],
 "metadata": {
  "kernelspec": {
   "display_name": "Python 3",
   "language": "python",
   "name": "python3"
  },
  "language_info": {
   "codemirror_mode": {
    "name": "ipython",
    "version": 3
   },
   "file_extension": ".py",
   "mimetype": "text/x-python",
   "name": "python",
   "nbconvert_exporter": "python",
   "pygments_lexer": "ipython3",
   "version": "3.8.5"
  }
 },
 "nbformat": 4,
 "nbformat_minor": 4
}
