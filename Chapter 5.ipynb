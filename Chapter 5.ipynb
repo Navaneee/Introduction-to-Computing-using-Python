{
 "cells": [
  {
   "cell_type": "markdown",
   "metadata": {},
   "source": [
    "### 5.23"
   ]
  },
  {
   "cell_type": "code",
   "execution_count": 1,
   "metadata": {},
   "outputs": [
    {
     "data": {
      "text/plain": [
       "475.0"
      ]
     },
     "execution_count": 1,
     "metadata": {},
     "output_type": "execute_result"
    }
   ],
   "source": [
    "def pay(wage,hour):\n",
    "    if hour<40:\n",
    "        pay=hour*wage\n",
    "    elif 40<= hour<= 60:\n",
    "        extra_hr=hour-40\n",
    "        pay=40*wage+1.5*extra_hr*wage\n",
    "    elif hour>60:\n",
    "        extra_hr=hour-60\n",
    "        pay=60*wage+2*extra_hr*wage\n",
    "    return pay\n",
    "pay(10,45)"
   ]
  },
  {
   "cell_type": "markdown",
   "metadata": {},
   "source": [
    "### 5.24"
   ]
  },
  {
   "cell_type": "code",
   "execution_count": 19,
   "metadata": {},
   "outputs": [
    {
     "data": {
      "text/plain": [
       "'Capitalized'"
      ]
     },
     "execution_count": 19,
     "metadata": {},
     "output_type": "execute_result"
    }
   ],
   "source": [
    "def case(n):\n",
    "    if n[0].isupper():\n",
    "        return(\"Capitalized\")\n",
    "    elif n[0].islower():\n",
    "        return(\"Not Capitalized\")\n",
    "    return(\"Unknown\")\n",
    "    \n",
    "case(\"Bnuj\")"
   ]
  },
  {
   "cell_type": "markdown",
   "metadata": {},
   "source": [
    "### 5.25"
   ]
  },
  {
   "cell_type": "code",
   "execution_count": 26,
   "metadata": {},
   "outputs": [],
   "source": [
    "def leap(year):\n",
    "    if (year%4==0 and year%100!=0) or year%400==0:\n",
    "        return True\n",
    "    return False\n",
    "    "
   ]
  },
  {
   "cell_type": "code",
   "execution_count": 28,
   "metadata": {},
   "outputs": [
    {
     "data": {
      "text/plain": [
       "False"
      ]
     },
     "execution_count": 28,
     "metadata": {},
     "output_type": "execute_result"
    }
   ],
   "source": [
    "leap(1900)"
   ]
  },
  {
   "cell_type": "markdown",
   "metadata": {},
   "source": [
    "### 5.26"
   ]
  },
  {
   "cell_type": "code",
   "execution_count": 20,
   "metadata": {},
   "outputs": [],
   "source": [
    "def rps(player1,player2):\n",
    "    if player1==\"R\" and player2==\"P\":\n",
    "        return(1)\n",
    "    elif player1==\"R\" and player2==\"S\":\n",
    "        return(-1)\n",
    "    elif player1==\"P\" and player2==\"S\":\n",
    "        return(1)\n",
    "    elif player1==\"P\" and player2==\"R\":\n",
    "        return(-1)\n",
    "    elif player1==\"S\" and player2==\"R\":\n",
    "        return(1)\n",
    "    elif player1==\"S\" and player2==\"P\":\n",
    "        return(-1)\n",
    "    elif player1==player2:\n",
    "        return(0)\n",
    "rps(\"R\",\"P\")"
   ]
  },
  {
   "cell_type": "markdown",
   "metadata": {},
   "source": [
    "### 5.27"
   ]
  },
  {
   "cell_type": "code",
   "execution_count": 41,
   "metadata": {},
   "outputs": [
    {
     "data": {
      "text/plain": [
       "0.7"
      ]
     },
     "execution_count": 41,
     "metadata": {},
     "output_type": "execute_result"
    }
   ],
   "source": [
    "letter_grade={'A-':3.7,'B-':2.7,'C-':1.7,'D-':0.7,'F-':-0.3,'A+':4.3,'B+':3.3,'C+':2.3,'D+':1.3,'F+':0.3}\n",
    "def letter2number(number_grade):\n",
    "    sum=0\n",
    "    for letter in letter_grade.keys():\n",
    "        if number_grade==letter:\n",
    "            sum+=letter_grade[letter]\n",
    "    return sum\n",
    "            \n",
    "letter2number('D-')                 "
   ]
  },
  {
   "cell_type": "markdown",
   "metadata": {},
   "source": [
    "### 5.28"
   ]
  },
  {
   "cell_type": "code",
   "execution_count": 60,
   "metadata": {},
   "outputs": [],
   "source": [
    "def geometric(seq):\n",
    "    common_ratio=seq[1]/seq[0]\n",
    "    for i in range(1,len(seq)):\n",
    "        ratio=(seq[i])/(seq[i-1])\n",
    "        if ratio!=common_ratio:\n",
    "            return False\n",
    "    return True\n",
    "            \n"
   ]
  },
  {
   "cell_type": "code",
   "execution_count": 65,
   "metadata": {},
   "outputs": [
    {
     "data": {
      "text/plain": [
       "True"
      ]
     },
     "execution_count": 65,
     "metadata": {},
     "output_type": "execute_result"
    }
   ],
   "source": [
    "geometric([2, 4, 8, 16, 32, 64, 128, 256])"
   ]
  },
  {
   "cell_type": "markdown",
   "metadata": {},
   "source": [
    "### 5.29"
   ]
  },
  {
   "cell_type": "code",
   "execution_count": 151,
   "metadata": {},
   "outputs": [],
   "source": [
    "def lastfirst(names):\n",
    "    lastnames=[]\n",
    "    firstnames=[]\n",
    "    for name in names:\n",
    "        lastname,firstname=name.split(\", \")\n",
    "        lastnames.append(lastname)\n",
    "        firstnames.append(firstname)\n",
    "    return([lastnames,firstnames])"
   ]
  },
  {
   "cell_type": "code",
   "execution_count": 152,
   "metadata": {},
   "outputs": [
    {
     "data": {
      "text/plain": [
       "[['Gerber ', 'Fox', 'Dunn '], ['Len', 'Kate', 'Bob']]"
      ]
     },
     "execution_count": 152,
     "metadata": {},
     "output_type": "execute_result"
    }
   ],
   "source": [
    "names=['Gerber , Len', 'Fox, Kate', 'Dunn , Bob']\n",
    "lastfirst(names)"
   ]
  },
  {
   "cell_type": "markdown",
   "metadata": {},
   "source": [
    "### 5.30"
   ]
  },
  {
   "cell_type": "code",
   "execution_count": 1,
   "metadata": {},
   "outputs": [
    {
     "name": "stdout",
     "output_type": "stream",
     "text": [
      "Word Length 1 : 0\n",
      "Word Length 2 : 3\n",
      "Word Length 3 : 3\n"
     ]
    }
   ],
   "source": [
    "with open(\"C:/Users/ANAVADYA/Desktop/hello.txt\",\"r\") as file:\n",
    "    data=file.read()\n",
    "    c1=0\n",
    "    c2=0\n",
    "    c3=0\n",
    "    for word in data.split():\n",
    "        word_length=len(word)\n",
    "        if word_length==1:\n",
    "            c1+=1\n",
    "        elif word_length==2:\n",
    "            c2+=1\n",
    "        elif word_length==3:\n",
    "            c3+=1\n",
    "        else:\n",
    "            print(0)\n",
    "print(\"Word Length 1 :\",c1)\n",
    "print(\"Word Length 2 :\",c2)\n",
    "print(\"Word Length 3 :\",c3)"
   ]
  },
  {
   "cell_type": "markdown",
   "metadata": {},
   "source": [
    "### 5.31"
   ]
  },
  {
   "cell_type": "code",
   "execution_count": 16,
   "metadata": {},
   "outputs": [],
   "source": [
    "def subsetSum(lst,target):\n",
    "    for i in range(0,len(lst)-2):\n",
    "        for j in range(i+1,len(lst)-1):\n",
    "            for k in range(j+1,len(lst)):\n",
    "                if lst[i]+lst[j]+lst[k]==target:\n",
    "                    return True\n",
    "    return False"
   ]
  },
  {
   "cell_type": "code",
   "execution_count": 17,
   "metadata": {},
   "outputs": [
    {
     "data": {
      "text/plain": [
       "True"
      ]
     },
     "execution_count": 17,
     "metadata": {},
     "output_type": "execute_result"
    }
   ],
   "source": [
    "subsetSum([5, 4, 10, 20, 15, 19], 38)"
   ]
  },
  {
   "cell_type": "code",
   "execution_count": 18,
   "metadata": {},
   "outputs": [
    {
     "data": {
      "text/plain": [
       "False"
      ]
     },
     "execution_count": 18,
     "metadata": {},
     "output_type": "execute_result"
    }
   ],
   "source": [
    "subsetSum([5, 4, 10, 20, 15, 19], 10)"
   ]
  },
  {
   "cell_type": "markdown",
   "metadata": {},
   "source": [
    "### 5.32"
   ]
  },
  {
   "cell_type": "code",
   "execution_count": null,
   "metadata": {},
   "outputs": [],
   "source": [
    "def fib(n):\n",
    "    a=0\n",
    "    b=1\n",
    "    fibonacci=[1,1]\n",
    "    for i in range(2,n+1):\n",
    "            a=fibonacci[-2]\n",
    "            b=fibonacci[-2]+fibonacci[-1]\n",
    "            fibonacci.append(b)\n",
    "    return fibonacci[n]"
   ]
  },
  {
   "cell_type": "code",
   "execution_count": 72,
   "metadata": {},
   "outputs": [],
   "source": [
    "def fib(n):\n",
    "    a=0\n",
    "    b=1\n",
    "    fibonacci=[1,1]\n",
    "    for i in range(2,n+1):\n",
    "            b=a+b\n",
    "            a=b\n",
    "            fibonacci.append(b)\n",
    "    return fibonacci[n]"
   ]
  },
  {
   "cell_type": "markdown",
   "metadata": {},
   "source": [
    "### 5.33"
   ]
  },
  {
   "cell_type": "code",
   "execution_count": 105,
   "metadata": {},
   "outputs": [],
   "source": [
    "def mystery(n):\n",
    "    count=0\n",
    "    while True:\n",
    "        n/=2\n",
    "        if n<1:\n",
    "            break\n",
    "        count+=1\n",
    "    return count\n",
    "        "
   ]
  },
  {
   "cell_type": "code",
   "execution_count": 106,
   "metadata": {},
   "outputs": [
    {
     "data": {
      "text/plain": [
       "2"
      ]
     },
     "execution_count": 106,
     "metadata": {},
     "output_type": "execute_result"
    }
   ],
   "source": [
    "mystery(4)"
   ]
  },
  {
   "cell_type": "code",
   "execution_count": 107,
   "metadata": {},
   "outputs": [
    {
     "data": {
      "text/plain": [
       "3"
      ]
     },
     "execution_count": 107,
     "metadata": {},
     "output_type": "execute_result"
    }
   ],
   "source": [
    "mystery(11)"
   ]
  },
  {
   "cell_type": "code",
   "execution_count": 108,
   "metadata": {},
   "outputs": [
    {
     "data": {
      "text/plain": [
       "4"
      ]
     },
     "execution_count": 108,
     "metadata": {},
     "output_type": "execute_result"
    }
   ],
   "source": [
    "mystery(25)"
   ]
  },
  {
   "cell_type": "markdown",
   "metadata": {},
   "source": [
    "### 5.34"
   ]
  },
  {
   "cell_type": "code",
   "execution_count": 19,
   "metadata": {},
   "outputs": [],
   "source": [
    "def statement(lst):\n",
    "    deposite_sum=0\n",
    "    withdrawal_sum=0\n",
    "    for num in lst:\n",
    "        if num>0:\n",
    "            deposite_sum+=1\n",
    "        elif num<0:\n",
    "            withdrawal_sum+=1\n",
    "    return([deposite_sum,withdrawal_sum])\n",
    "            "
   ]
  },
  {
   "cell_type": "code",
   "execution_count": 20,
   "metadata": {},
   "outputs": [
    {
     "data": {
      "text/plain": [
       "[120.29, -70.67]"
      ]
     },
     "execution_count": 20,
     "metadata": {},
     "output_type": "execute_result"
    }
   ],
   "source": [
    "statement([30.95, -15.67, 45.56, -55.00, 43.78])\n",
    "[120.29, -70.67]"
   ]
  },
  {
   "cell_type": "markdown",
   "metadata": {},
   "source": [
    "### 5.35"
   ]
  },
  {
   "cell_type": "code",
   "execution_count": 21,
   "metadata": {},
   "outputs": [],
   "source": [
    "def pixels(lst):\n",
    "    count=0\n",
    "    for lst1 in lst:\n",
    "        for num in lst1:\n",
    "            if num>0:\n",
    "                count+=1\n",
    "    return(count)\n",
    "    "
   ]
  },
  {
   "cell_type": "code",
   "execution_count": 22,
   "metadata": {},
   "outputs": [
    {
     "data": {
      "text/plain": [
       "5"
      ]
     },
     "execution_count": 22,
     "metadata": {},
     "output_type": "execute_result"
    }
   ],
   "source": [
    "l = [[0, 156, 0, 0], [34, 0, 0, 0], [23, 123, 0, 34]]\n",
    "pixels(l)"
   ]
  },
  {
   "cell_type": "markdown",
   "metadata": {},
   "source": [
    "### 5.36"
   ]
  },
  {
   "cell_type": "code",
   "execution_count": 191,
   "metadata": {},
   "outputs": [],
   "source": [
    "def is_prime(n):\n",
    "    if n==2:\n",
    "        return True\n",
    "    for i in range(2,n):\n",
    "        if n%i==0:\n",
    "            return False\n",
    "    return True"
   ]
  },
  {
   "cell_type": "markdown",
   "metadata": {},
   "source": [
    "### 5.37"
   ]
  },
  {
   "cell_type": "code",
   "execution_count": 37,
   "metadata": {},
   "outputs": [],
   "source": [
    "def mssl(lst):\n",
    "    empty_list=[]\n",
    "    for i in range(0,len(lst)):\n",
    "        for j in range(i+1,len(lst)+1):\n",
    "            empty_list.append(sum(lst[i:j]))\n",
    "    max(empty_list)\n",
    "    "
   ]
  },
  {
   "cell_type": "code",
   "execution_count": 38,
   "metadata": {},
   "outputs": [],
   "source": [
    "l = [4, -2, -8, 5, -2, 7, 7, 2, -6, 5]\n",
    "mssl(l)"
   ]
  },
  {
   "cell_type": "markdown",
   "metadata": {},
   "source": [
    "### 5.38"
   ]
  },
  {
   "cell_type": "code",
   "execution_count": 22,
   "metadata": {},
   "outputs": [],
   "source": [
    "def collatz(x):\n",
    "    print(x)\n",
    "    while x!=1:\n",
    "        if x%2==0:\n",
    "            x//=2\n",
    "        else:\n",
    "            x=3*x+1\n",
    "        print(x)\n",
    "    "
   ]
  },
  {
   "cell_type": "code",
   "execution_count": 23,
   "metadata": {},
   "outputs": [
    {
     "name": "stdout",
     "output_type": "stream",
     "text": [
      "10\n",
      "5\n",
      "16\n",
      "8\n",
      "4\n",
      "2\n",
      "1\n"
     ]
    }
   ],
   "source": [
    "collatz(10)"
   ]
  },
  {
   "cell_type": "markdown",
   "metadata": {},
   "source": [
    "### 5.39"
   ]
  },
  {
   "cell_type": "code",
   "execution_count": 208,
   "metadata": {},
   "outputs": [],
   "source": [
    "def exclamation(string):\n",
    "    dic={'a':4*\"a\",'e':4*\"e\",\"i\":4*\"i\",\"\":4*\"o\",\"\":4*\"u\"}\n",
    "    for i in string:\n",
    "        if i in dic.keys():\n",
    "           string=string.replace(i,dic[i])\n",
    "    return(string+\"!\")\n",
    "    "
   ]
  },
  {
   "cell_type": "code",
   "execution_count": 209,
   "metadata": {},
   "outputs": [
    {
     "data": {
      "text/plain": [
       "'aaaargh!'"
      ]
     },
     "execution_count": 209,
     "metadata": {},
     "output_type": "execute_result"
    }
   ],
   "source": [
    "exclamation('argh')"
   ]
  },
  {
   "cell_type": "code",
   "execution_count": 210,
   "metadata": {},
   "outputs": [
    {
     "data": {
      "text/plain": [
       "'heeeello!'"
      ]
     },
     "execution_count": 210,
     "metadata": {},
     "output_type": "execute_result"
    }
   ],
   "source": [
    "exclamation('hello')"
   ]
  },
  {
   "cell_type": "markdown",
   "metadata": {},
   "source": [
    "### 5.40"
   ]
  },
  {
   "cell_type": "code",
   "execution_count": 24,
   "metadata": {},
   "outputs": [],
   "source": [
    "def pisum(n):\n",
    "    sum=0\n",
    "    for i in range(1,n+1):\n",
    "        upper=((-1)**(i+1))*4\n",
    "        lower=2*i-1\n",
    "        general_term=upper/lower\n",
    "        sum+=general_term\n",
    "    return sum "
   ]
  },
  {
   "cell_type": "code",
   "execution_count": 25,
   "metadata": {},
   "outputs": [],
   "source": [
    "def approxpi(error):\n",
    "    n=1\n",
    "    while True:\n",
    "        previous_sum=pisum(n)\n",
    "        current_sum=pisum(n+1)\n",
    "        diff=abs(previous_sum-current_sum)\n",
    "        if diff<error:\n",
    "            return current_sum\n",
    "        n+=1"
   ]
  },
  {
   "cell_type": "markdown",
   "metadata": {},
   "source": [
    "### 5.41"
   ]
  },
  {
   "cell_type": "code",
   "execution_count": 12,
   "metadata": {},
   "outputs": [],
   "source": [
    "def poly(lst,x):\n",
    "    total=0\n",
    "    for i in range(len(lst)):\n",
    "            total += lst[i] * (x ** i)\n",
    "    return(total)"
   ]
  },
  {
   "cell_type": "code",
   "execution_count": 13,
   "metadata": {},
   "outputs": [
    {
     "data": {
      "text/plain": [
       "9"
      ]
     },
     "execution_count": 13,
     "metadata": {},
     "output_type": "execute_result"
    }
   ],
   "source": [
    "poly([1, 2, 1], 2)"
   ]
  },
  {
   "cell_type": "code",
   "execution_count": 14,
   "metadata": {},
   "outputs": [
    {
     "data": {
      "text/plain": [
       "21"
      ]
     },
     "execution_count": 14,
     "metadata": {},
     "output_type": "execute_result"
    }
   ],
   "source": [
    "poly([1, 0, 1, 0, 1], 2)"
   ]
  },
  {
   "cell_type": "code",
   "execution_count": 15,
   "metadata": {},
   "outputs": [
    {
     "data": {
      "text/plain": [
       "91"
      ]
     },
     "execution_count": 15,
     "metadata": {},
     "output_type": "execute_result"
    }
   ],
   "source": [
    "poly([1, 0, 1, 0, 1], 3)"
   ]
  },
  {
   "cell_type": "markdown",
   "metadata": {},
   "source": [
    "### 5.42"
   ]
  },
  {
   "cell_type": "code",
   "execution_count": 158,
   "metadata": {},
   "outputs": [],
   "source": [
    "def is_prime(n):\n",
    "    if n==2:\n",
    "        return True\n",
    "    for i in range(2,n):\n",
    "        if n%i==0:\n",
    "            return False\n",
    "    return True"
   ]
  },
  {
   "cell_type": "code",
   "execution_count": 161,
   "metadata": {},
   "outputs": [
    {
     "data": {
      "text/plain": [
       "False"
      ]
     },
     "execution_count": 161,
     "metadata": {},
     "output_type": "execute_result"
    }
   ],
   "source": [
    "is_prime(8)"
   ]
  },
  {
   "cell_type": "code",
   "execution_count": 186,
   "metadata": {},
   "outputs": [],
   "source": [
    "def primefac(n):\n",
    "    prime_factors=[]\n",
    "    for i in range(2,n+1):\n",
    "        while is_prime(i) and n%i==0:\n",
    "            n/=i\n",
    "            prime_factors.append(i)\n",
    "            if n==1:\n",
    "                break\n",
    "    return prime_factors\n",
    "        "
   ]
  },
  {
   "cell_type": "code",
   "execution_count": 190,
   "metadata": {},
   "outputs": [
    {
     "data": {
      "text/plain": [
       "[2]"
      ]
     },
     "execution_count": 190,
     "metadata": {},
     "output_type": "execute_result"
    }
   ],
   "source": [
    "primefac(2)"
   ]
  },
  {
   "cell_type": "code",
   "execution_count": 188,
   "metadata": {},
   "outputs": [
    {
     "data": {
      "text/plain": [
       "[5]"
      ]
     },
     "execution_count": 188,
     "metadata": {},
     "output_type": "execute_result"
    }
   ],
   "source": [
    "primefac(5)"
   ]
  },
  {
   "cell_type": "code",
   "execution_count": 189,
   "metadata": {},
   "outputs": [
    {
     "data": {
      "text/plain": [
       "[2, 2, 2, 3, 3]"
      ]
     },
     "execution_count": 189,
     "metadata": {},
     "output_type": "execute_result"
    }
   ],
   "source": [
    "primefac(72)"
   ]
  },
  {
   "cell_type": "markdown",
   "metadata": {},
   "source": [
    "### 5.43"
   ]
  },
  {
   "cell_type": "code",
   "execution_count": null,
   "metadata": {},
   "outputs": [],
   "source": []
  },
  {
   "cell_type": "code",
   "execution_count": 17,
   "metadata": {},
   "outputs": [],
   "source": [
    "def evenrow(lst):\n",
    "    for i in lst:\n",
    "        if sum(i)%2!=0:\n",
    "            return False\n",
    "    return True            "
   ]
  },
  {
   "cell_type": "code",
   "execution_count": 18,
   "metadata": {},
   "outputs": [
    {
     "data": {
      "text/plain": [
       "True"
      ]
     },
     "execution_count": 18,
     "metadata": {},
     "output_type": "execute_result"
    }
   ],
   "source": [
    "evenrow([[1, 3], [2, 4], [0, 6]])"
   ]
  },
  {
   "cell_type": "markdown",
   "metadata": {},
   "source": [
    "### 5.44"
   ]
  },
  {
   "cell_type": "code",
   "execution_count": 27,
   "metadata": {},
   "outputs": [],
   "source": [
    "def encrypt(key,digit_string):\n",
    "    mappingdic={str(i):key[i] for i in range(10)}\n",
    "    new_string=\"\"\n",
    "    for digit in digit_string:\n",
    "        new_string+=mappingdic[digit]\n",
    "    return new_string"
   ]
  },
  {
   "cell_type": "code",
   "execution_count": 28,
   "metadata": {},
   "outputs": [
    {
     "data": {
      "text/plain": [
       "'914'"
      ]
     },
     "execution_count": 28,
     "metadata": {},
     "output_type": "execute_result"
    }
   ],
   "source": [
    "encrypt('3941068257', '132')"
   ]
  },
  {
   "cell_type": "code",
   "execution_count": 37,
   "metadata": {},
   "outputs": [],
   "source": [
    "def encrypt(key,digit_string):\n",
    "    mappingdic={str(i):key[i] for i in range(10)}\n",
    "    for digit in digit_string:\n",
    "        digit_string=digit_string.replace(digit,mappingdic[digit])\n",
    "    return digit_string"
   ]
  },
  {
   "cell_type": "code",
   "execution_count": 38,
   "metadata": {},
   "outputs": [
    {
     "data": {
      "text/plain": [
       "'914'"
      ]
     },
     "execution_count": 38,
     "metadata": {},
     "output_type": "execute_result"
    }
   ],
   "source": [
    "encrypt('3941068257', '132')"
   ]
  },
  {
   "cell_type": "markdown",
   "metadata": {},
   "source": [
    "### 5.45"
   ]
  },
  {
   "cell_type": "code",
   "execution_count": 43,
   "metadata": {},
   "outputs": [],
   "source": [
    "def avgavg(lst):\n",
    "    avg_lst=[]\n",
    "    for i in lst:\n",
    "        avg_lst.append(sum(i)/len(i))\n",
    "    print(avg_lst)\n",
    "    return(sum(avg_lst)/len(avg_lst))\n",
    "    "
   ]
  },
  {
   "cell_type": "code",
   "execution_count": 44,
   "metadata": {},
   "outputs": [
    {
     "name": "stdout",
     "output_type": "stream",
     "text": [
      "[91.0, 65.0, 87.0, 11.333333333333334]\n"
     ]
    },
    {
     "data": {
      "text/plain": [
       "63.583333333333336"
      ]
     },
     "execution_count": 44,
     "metadata": {},
     "output_type": "execute_result"
    }
   ],
   "source": [
    "avgavg([[95, 92, 86], [66, 75, 54],[89, 72, 100], [34, 0, 0]])"
   ]
  },
  {
   "cell_type": "markdown",
   "metadata": {},
   "source": [
    "### 5.46"
   ]
  },
  {
   "cell_type": "code",
   "execution_count": 45,
   "metadata": {},
   "outputs": [
    {
     "data": {
      "text/plain": [
       "True"
      ]
     },
     "execution_count": 45,
     "metadata": {},
     "output_type": "execute_result"
    }
   ],
   "source": [
    "\"colour\"<\"colours\""
   ]
  },
  {
   "cell_type": "code",
   "execution_count": 48,
   "metadata": {},
   "outputs": [],
   "source": [
    "def inversions(seq):\n",
    "    count=0\n",
    "    for i in range(0,len(seq)-1):\n",
    "        for j in range(i+1,len(seq)):\n",
    "            if seq[i]>seq[j]:\n",
    "                count+=1\n",
    "    return count       "
   ]
  },
  {
   "cell_type": "code",
   "execution_count": 49,
   "metadata": {},
   "outputs": [
    {
     "data": {
      "text/plain": [
       "2"
      ]
     },
     "execution_count": 49,
     "metadata": {},
     "output_type": "execute_result"
    }
   ],
   "source": [
    "inversions('ABBFHDL')"
   ]
  },
  {
   "cell_type": "code",
   "execution_count": 50,
   "metadata": {},
   "outputs": [
    {
     "data": {
      "text/plain": [
       "0"
      ]
     },
     "execution_count": 50,
     "metadata": {},
     "output_type": "execute_result"
    }
   ],
   "source": [
    "inversions('AB')"
   ]
  },
  {
   "cell_type": "code",
   "execution_count": 51,
   "metadata": {},
   "outputs": [
    {
     "data": {
      "text/plain": [
       "6"
      ]
     },
     "execution_count": 51,
     "metadata": {},
     "output_type": "execute_result"
    }
   ],
   "source": [
    "inversions('DCBA')"
   ]
  },
  {
   "cell_type": "markdown",
   "metadata": {},
   "source": [
    "### 5.47"
   ]
  },
  {
   "cell_type": "code",
   "execution_count": 61,
   "metadata": {},
   "outputs": [
    {
     "name": "stdout",
     "output_type": "stream",
     "text": [
      "\n"
     ]
    }
   ],
   "source": [
    "number=15\n",
    "base=2\n",
    "base_rep=\"\"\n",
    "while number==1:\n",
    "    number//=base\n",
    "    reminder=number%base\n",
    "    base_rep.append(str(reminder))\n",
    "print(reminder)   "
   ]
  },
  {
   "cell_type": "code",
   "execution_count": null,
   "metadata": {},
   "outputs": [],
   "source": []
  },
  {
   "cell_type": "code",
   "execution_count": 35,
   "metadata": {},
   "outputs": [],
   "source": [
    "def d2x(number,base):\n",
    "    base_rep=\"\"\n",
    "    while True:\n",
    "        reminder=number%base\n",
    "        base_rep+=str(reminder)\n",
    "        number//=base\n",
    "        if number<1:\n",
    "            break\n",
    "    return base_rep[::-1]"
   ]
  },
  {
   "cell_type": "code",
   "execution_count": 36,
   "metadata": {},
   "outputs": [
    {
     "data": {
      "text/plain": [
       "'1010'"
      ]
     },
     "execution_count": 36,
     "metadata": {},
     "output_type": "execute_result"
    }
   ],
   "source": [
    "d2x(10,2)"
   ]
  },
  {
   "cell_type": "code",
   "execution_count": 37,
   "metadata": {},
   "outputs": [
    {
     "data": {
      "text/plain": [
       "'101'"
      ]
     },
     "execution_count": 37,
     "metadata": {},
     "output_type": "execute_result"
    }
   ],
   "source": [
    "d2x(10, 3)"
   ]
  },
  {
   "cell_type": "markdown",
   "metadata": {},
   "source": [
    "### 5.48"
   ]
  },
  {
   "cell_type": "code",
   "execution_count": 215,
   "metadata": {},
   "outputs": [],
   "source": [
    "def sublist(sub_list,lst):\n",
    "    list1=[]\n",
    "    for i in range(len(lst)-1):\n",
    "        for j in range(i+1,len(lst)):\n",
    "            list1.append(lst[i:j])\n",
    "    if sub_list in list1:\n",
    "        return True\n",
    "    return False "
   ]
  },
  {
   "cell_type": "code",
   "execution_count": 226,
   "metadata": {},
   "outputs": [],
   "source": [
    "def sublist(sub_list,main_list):\n",
    "    index_list=[]\n",
    "    for i in sub_list:\n",
    "        index=main_list.index(i)\n",
    "        index_list.append(index)\n",
    "        print(index_list)\n",
    "        if tuple(index_list)==(sorted(index_list)):\n",
    "            return True\n",
    "        return False\n",
    "        "
   ]
  },
  {
   "cell_type": "code",
   "execution_count": 234,
   "metadata": {},
   "outputs": [
    {
     "data": {
      "text/plain": [
       "True"
      ]
     },
     "execution_count": 234,
     "metadata": {},
     "output_type": "execute_result"
    }
   ],
   "source": [
    "sublist([15, 1, 100], [20, 15, 30, 50, 1, 100])"
   ]
  },
  {
   "cell_type": "code",
   "execution_count": 235,
   "metadata": {},
   "outputs": [
    {
     "data": {
      "text/plain": [
       "False"
      ]
     },
     "execution_count": 235,
     "metadata": {},
     "output_type": "execute_result"
    }
   ],
   "source": [
    "sublist([15, 50, 20], [20, 15, 30, 50, 1, 100])"
   ]
  },
  {
   "cell_type": "code",
   "execution_count": 233,
   "metadata": {},
   "outputs": [],
   "source": [
    "def sublist(sub_list,main_list):\n",
    "    pre_index=-1\n",
    "    for i in sub_list:\n",
    "        curr_index=main_list.index(i)\n",
    "        if pre_index>curr_index:\n",
    "            return False\n",
    "        pre_index=curr_index\n",
    "    return True"
   ]
  },
  {
   "cell_type": "markdown",
   "metadata": {},
   "source": [
    "### 5.49"
   ]
  },
  {
   "cell_type": "code",
   "execution_count": 1,
   "metadata": {},
   "outputs": [],
   "source": [
    "def heron(number,error):\n",
    "    previous_value=1\n",
    "    while True:\n",
    "        next_term=(1/2)*(previous_value+(number/previous_value))\n",
    "        difference=abs(next_term-previous_value)\n",
    "        if difference<=error:\n",
    "            return next_term\n",
    "        previous_value=next_term"
   ]
  },
  {
   "cell_type": "code",
   "execution_count": 2,
   "metadata": {},
   "outputs": [
    {
     "data": {
      "text/plain": [
       "2.05"
      ]
     },
     "execution_count": 2,
     "metadata": {},
     "output_type": "execute_result"
    }
   ],
   "source": [
    "heron(4, 0.5)"
   ]
  },
  {
   "cell_type": "code",
   "execution_count": 3,
   "metadata": {},
   "outputs": [
    {
     "data": {
      "text/plain": [
       "2.000609756097561"
      ]
     },
     "execution_count": 3,
     "metadata": {},
     "output_type": "execute_result"
    }
   ],
   "source": [
    "heron(4.0, 0.1)"
   ]
  },
  {
   "cell_type": "code",
   "execution_count": 238,
   "metadata": {},
   "outputs": [
    {
     "name": "stdout",
     "output_type": "stream",
     "text": [
      "(1, 4)\n",
      "(2, 5)\n",
      "(3, 6)\n"
     ]
    }
   ],
   "source": [
    "a=[1,2,3]\n",
    "b=[4,5,6]\n",
    "for i,j in zip(a,b):\n",
    "    print((i,j))"
   ]
  },
  {
   "cell_type": "code",
   "execution_count": 1,
   "metadata": {},
   "outputs": [
    {
     "data": {
      "text/plain": [
       "'C:\\\\Users\\\\ANAVADYA'"
      ]
     },
     "execution_count": 1,
     "metadata": {},
     "output_type": "execute_result"
    }
   ],
   "source": [
    "import os\n",
    "os.getcwd()"
   ]
  },
  {
   "cell_type": "code",
   "execution_count": null,
   "metadata": {},
   "outputs": [],
   "source": []
  }
 ],
 "metadata": {
  "kernelspec": {
   "display_name": "Python 3",
   "language": "python",
   "name": "python3"
  },
  "language_info": {
   "codemirror_mode": {
    "name": "ipython",
    "version": 3
   },
   "file_extension": ".py",
   "mimetype": "text/x-python",
   "name": "python",
   "nbconvert_exporter": "python",
   "pygments_lexer": "ipython3",
   "version": "3.8.5"
  }
 },
 "nbformat": 4,
 "nbformat_minor": 4
}
