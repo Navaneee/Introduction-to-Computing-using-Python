{
 "cells": [
  {
   "cell_type": "code",
   "execution_count": 57,
   "metadata": {},
   "outputs": [
    {
     "data": {
      "text/plain": [
       "[0, 1, 1, 2]"
      ]
     },
     "execution_count": 57,
     "metadata": {},
     "output_type": "execute_result"
    }
   ],
   "source": [
    "#Fibonacci sequence\n",
    "def fibonacci(n):\n",
    "    fib=[0,1]\n",
    "    a=0\n",
    "    b=1\n",
    "    if n==1:\n",
    "        return(0)\n",
    "    for i in range(2,n):\n",
    "        a=fib[-1]\n",
    "        b=fib[-1]+fib[-2]\n",
    "        fib.append(b)\n",
    "    return(fib)\n",
    "fibonacci(4)\n",
    "    "
   ]
  },
  {
   "cell_type": "code",
   "execution_count": null,
   "metadata": {},
   "outputs": [],
   "source": []
  },
  {
   "cell_type": "code",
   "execution_count": 69,
   "metadata": {},
   "outputs": [
    {
     "data": {
      "text/plain": [
       "12"
      ]
     },
     "execution_count": 69,
     "metadata": {},
     "output_type": "execute_result"
    }
   ],
   "source": [
    "def sum_of_evennumbers(n):\n",
    "    sum=0\n",
    "    for i in range(2,2*n+1,2):\n",
    "        sum+=i\n",
    "    return(sum)\n",
    "sum_of_evennumbers(3)"
   ]
  },
  {
   "cell_type": "code",
   "execution_count": 115,
   "metadata": {},
   "outputs": [],
   "source": [
    "def is_prime(n):\n",
    "    if n<2:\n",
    "        return(False)\n",
    "        \n",
    "    for i in range(2,n):\n",
    "        if n%i == 0:\n",
    "            return(False)\n",
    "    return(True)\n",
    "\n",
    "        "
   ]
  },
  {
   "cell_type": "code",
   "execution_count": 117,
   "metadata": {},
   "outputs": [
    {
     "data": {
      "text/plain": [
       "False"
      ]
     },
     "execution_count": 117,
     "metadata": {},
     "output_type": "execute_result"
    }
   ],
   "source": [
    "is_prime(1)"
   ]
  },
  {
   "cell_type": "code",
   "execution_count": 118,
   "metadata": {},
   "outputs": [],
   "source": [
    "def get_prime(a,b):\n",
    "    prime=[]\n",
    "    for n in range(a,b+1):\n",
    "        if is_prime(n):\n",
    "            prime.append(n)\n",
    "    return(prime)\n",
    "        "
   ]
  },
  {
   "cell_type": "code",
   "execution_count": 197,
   "metadata": {},
   "outputs": [],
   "source": [
    "def Is_armstrongnumber(number):\n",
    "    if number<0:\n",
    "        return(False)\n",
    "    sum=0\n",
    "    count=len(str(number))\n",
    "    for i in str(number):\n",
    "        power=int(i)**count\n",
    "        sum+=power\n",
    "    if sum!=number:\n",
    "        return(False)\n",
    "    return(True)\n",
    "    \n",
    "    "
   ]
  },
  {
   "cell_type": "code",
   "execution_count": 198,
   "metadata": {},
   "outputs": [
    {
     "data": {
      "text/plain": [
       "True"
      ]
     },
     "execution_count": 198,
     "metadata": {},
     "output_type": "execute_result"
    }
   ],
   "source": [
    "Is_armstrongnumber(153)"
   ]
  },
  {
   "cell_type": "code",
   "execution_count": 201,
   "metadata": {},
   "outputs": [
    {
     "name": "stdout",
     "output_type": "stream",
     "text": [
      "153 \n",
      "370 \n",
      "371 \n",
      "407 \n"
     ]
    }
   ],
   "source": [
    "a=100\n",
    "b=500\n",
    "for i in range(a,b+1):\n",
    "    if Is_armstrongnumber(i):\n",
    "        print(i)\n",
    "        "
   ]
  },
  {
   "cell_type": "code",
   "execution_count": null,
   "metadata": {},
   "outputs": [],
   "source": []
  },
  {
   "cell_type": "code",
   "execution_count": 9,
   "metadata": {},
   "outputs": [],
   "source": [
    "def factorial(n):\n",
    "    if n<0:\n",
    "        return(False)\n",
    "    fact=1\n",
    "    for i in range(1,n+1):\n",
    "        fact*=i\n",
    "    return(fact)\n",
    "    "
   ]
  },
  {
   "cell_type": "code",
   "execution_count": 12,
   "metadata": {},
   "outputs": [
    {
     "data": {
      "text/plain": [
       "120"
      ]
     },
     "execution_count": 12,
     "metadata": {},
     "output_type": "execute_result"
    }
   ],
   "source": [
    "factorial(5)"
   ]
  },
  {
   "cell_type": "code",
   "execution_count": 13,
   "metadata": {},
   "outputs": [
    {
     "data": {
      "text/plain": [
       "False"
      ]
     },
     "execution_count": 13,
     "metadata": {},
     "output_type": "execute_result"
    }
   ],
   "source": [
    "factorial(-2)"
   ]
  },
  {
   "cell_type": "code",
   "execution_count": null,
   "metadata": {},
   "outputs": [],
   "source": [
    "def factorial(n):\n",
    "    if n==0 or n==1:\n",
    "        return(1)\n",
    "    else:\n",
    "        return()"
   ]
  },
  {
   "cell_type": "code",
   "execution_count": 52,
   "metadata": {},
   "outputs": [],
   "source": [
    "n=123.0\n",
    "m=list(str(n))"
   ]
  },
  {
   "cell_type": "code",
   "execution_count": null,
   "metadata": {},
   "outputs": [],
   "source": [
    "\n"
   ]
  },
  {
   "cell_type": "code",
   "execution_count": 53,
   "metadata": {},
   "outputs": [
    {
     "data": {
      "text/plain": [
       "['0', '.', '3', '2', '1']"
      ]
     },
     "execution_count": 53,
     "metadata": {},
     "output_type": "execute_result"
    }
   ],
   "source": [
    "s=m[::-1]\n",
    "s"
   ]
  },
  {
   "cell_type": "code",
   "execution_count": 54,
   "metadata": {},
   "outputs": [
    {
     "data": {
      "text/plain": [
       "'0.321'"
      ]
     },
     "execution_count": 54,
     "metadata": {},
     "output_type": "execute_result"
    }
   ],
   "source": [
    "o=\"\".join(s)\n",
    "o"
   ]
  },
  {
   "cell_type": "code",
   "execution_count": null,
   "metadata": {},
   "outputs": [],
   "source": []
  },
  {
   "cell_type": "code",
   "execution_count": 56,
   "metadata": {},
   "outputs": [],
   "source": [
    "def Is_palindrome(n):\n",
    "    if type(n)==int:\n",
    "        string=str(n)\n",
    "        list_of_n=list(string)\n",
    "        reverse=list_of_n[::-1]\n",
    "        reverse_number=\"\".join(reverse)\n",
    "        if string==reverse_number:\n",
    "            return(True)\n",
    "        return(False)\n",
    "    elif type(n)==str:\n",
    "        reverse=n[::-1]\n",
    "        if n==reverse:\n",
    "            return(True)\n",
    "        return(False)\n",
    "        \n",
    "    "
   ]
  },
  {
   "cell_type": "code",
   "execution_count": 9,
   "metadata": {},
   "outputs": [],
   "source": [
    "encoded_msg= \"obwboj jt b ljoe ifbsufe qfstpo. tif jt xpoefsgvm.\"\n",
    "character_map={'b': 'a', 'c': 'b', 'd': 'c', 'e': 'd', 'f': 'e', 'g': 'f',\n",
    "    'h': 'g', 'i': 'h', 'j': 'i', 'k': 'j', 'l': 'k', 'm': 'l', \n",
    "    'n': 'm', 'o': 'n', 'p': 'o', 'q': 'p', 'r': 'q', 's': 'r', \n",
    "    't': 's', 'u': 't', 'v': 'u', 'w': 'v', 'x': 'w', 'y': 'x', \n",
    "    'z': 'y', 'a': 'z'}"
   ]
  },
  {
   "cell_type": "code",
   "execution_count": 10,
   "metadata": {},
   "outputs": [],
   "source": [
    "decoded_msg=''\n",
    "for letter in encoded_msg:\n",
    "    if letter in character_map.keys():\n",
    "        decoded_msg+=character_map[letter]\n",
    "    else:\n",
    "        decoded_msg+=letter   "
   ]
  },
  {
   "cell_type": "code",
   "execution_count": 11,
   "metadata": {},
   "outputs": [
    {
     "data": {
      "text/plain": [
       "'navani is a kind hearted person. she is wonderful.'"
      ]
     },
     "execution_count": 11,
     "metadata": {},
     "output_type": "execute_result"
    }
   ],
   "source": [
    "decoded_msg"
   ]
  },
  {
   "cell_type": "code",
   "execution_count": 47,
   "metadata": {},
   "outputs": [
    {
     "name": "stdout",
     "output_type": "stream",
     "text": [
      "yes\n"
     ]
    }
   ],
   "source": []
  },
  {
   "cell_type": "code",
   "execution_count": 51,
   "metadata": {},
   "outputs": [
    {
     "data": {
      "text/plain": [
       "int"
      ]
     },
     "execution_count": 51,
     "metadata": {},
     "output_type": "execute_result"
    }
   ],
   "source": []
  },
  {
   "cell_type": "code",
   "execution_count": 49,
   "metadata": {},
   "outputs": [
    {
     "name": "stdout",
     "output_type": "stream",
     "text": [
      "yes\n"
     ]
    }
   ],
   "source": []
  },
  {
   "cell_type": "code",
   "execution_count": 1,
   "metadata": {},
   "outputs": [],
   "source": [
    "def pisum(n):\n",
    "    sum=0\n",
    "    for i in range(1,n+1):\n",
    "        upper=((-1)**(i+1))*4\n",
    "        lower=2*i-1\n",
    "        general_term=upper/lower\n",
    "        sum+=general_term\n",
    "    return sum "
   ]
  },
  {
   "cell_type": "code",
   "execution_count": 4,
   "metadata": {},
   "outputs": [
    {
     "data": {
      "text/plain": [
       "3.466666666666667"
      ]
     },
     "execution_count": 4,
     "metadata": {},
     "output_type": "execute_result"
    }
   ],
   "source": [
    "pisum(3)"
   ]
  },
  {
   "cell_type": "code",
   "execution_count": null,
   "metadata": {},
   "outputs": [],
   "source": [
    "def approxpi(error):\n",
    "    n=1\n",
    "    #sum=0\n",
    "    while True:\n",
    "        previous_sum=pisum(n)\n",
    "        current_sum=pisum(n+1)\n",
    "        diff=abs(previous_sum-current_sum)\n",
    "        if diff<error:\n",
    "            return current_sum\n",
    "        n+=1"
   ]
  },
  {
   "cell_type": "code",
   "execution_count": 7,
   "metadata": {},
   "outputs": [],
   "source": [
    "def p_sum(n):\n",
    "    sum=0\n",
    "    a=[1,2]\n",
    "    x=2\n",
    "    for i in range(1,n+1):\n",
    "        for j in a:\n",
    "            gen_term=j*(x**(i-1))\n",
    "            sum+=gen_term\n",
    "    return sum"
   ]
  },
  {
   "cell_type": "code",
   "execution_count": 8,
   "metadata": {},
   "outputs": [
    {
     "data": {
      "text/plain": [
       "18"
      ]
     },
     "execution_count": 8,
     "metadata": {},
     "output_type": "execute_result"
    }
   ],
   "source": [
    "p_sum(2)"
   ]
  },
  {
   "cell_type": "code",
   "execution_count": 9,
   "metadata": {},
   "outputs": [],
   "source": [
    "def poly(lst,x):\n",
    "    power=0\n",
    "    sum=0\n",
    "    for c in lst:\n",
    "        sum+=c*(x**power)\n",
    "        power+=1\n",
    "    return sum\n",
    "        \n"
   ]
  },
  {
   "cell_type": "code",
   "execution_count": 10,
   "metadata": {},
   "outputs": [
    {
     "data": {
      "text/plain": [
       "9"
      ]
     },
     "execution_count": 10,
     "metadata": {},
     "output_type": "execute_result"
    }
   ],
   "source": [
    "poly([1, 2, 1], 2)"
   ]
  },
  {
   "cell_type": "code",
   "execution_count": 11,
   "metadata": {},
   "outputs": [
    {
     "data": {
      "text/plain": [
       "21"
      ]
     },
     "execution_count": 11,
     "metadata": {},
     "output_type": "execute_result"
    }
   ],
   "source": [
    "poly([1, 0, 1, 0, 1], 2)"
   ]
  },
  {
   "cell_type": "code",
   "execution_count": 25,
   "metadata": {},
   "outputs": [],
   "source": [
    "\n",
    "        "
   ]
  },
  {
   "cell_type": "code",
   "execution_count": 27,
   "metadata": {},
   "outputs": [
    {
     "data": {
      "text/plain": [
       "475.0"
      ]
     },
     "execution_count": 27,
     "metadata": {},
     "output_type": "execute_result"
    }
   ],
   "source": []
  },
  {
   "cell_type": "code",
   "execution_count": 85,
   "metadata": {},
   "outputs": [
    {
     "ename": "SyntaxError",
     "evalue": "'return' outside function (<ipython-input-85-c0724e924ab5>, line 7)",
     "output_type": "error",
     "traceback": [
      "\u001b[1;36m  File \u001b[1;32m\"<ipython-input-85-c0724e924ab5>\"\u001b[1;36m, line \u001b[1;32m7\u001b[0m\n\u001b[1;33m    return True\u001b[0m\n\u001b[1;37m    ^\u001b[0m\n\u001b[1;31mSyntaxError\u001b[0m\u001b[1;31m:\u001b[0m 'return' outside function\n"
     ]
    }
   ],
   "source": [
    "lst=[1,2,3,5]\n",
    "target=6\n",
    "def fun(lst,target):\n",
    "    for i in lst:\n",
    "       for j in lst:\n",
    "        for k in lst:\n",
    "            if i+j+k==target:\n",
    "                return True\n",
    "   \n"
   ]
  },
  {
   "cell_type": "code",
   "execution_count": 22,
   "metadata": {},
   "outputs": [],
   "source": [
    "a=0\n",
    "b=1\n",
    "def fib(n):\n",
    "    if n==0:\n",
    "        return(1)\n",
    "    for i in range(1,n):\n",
    "        fib[i]=fib[i-1]\n",
    "        fib[i+1]=fib[i]+fib[i-1]\n",
    "        "
   ]
  },
  {
   "cell_type": "code",
   "execution_count": 24,
   "metadata": {},
   "outputs": [],
   "source": [
    "fib(1)"
   ]
  },
  {
   "cell_type": "code",
   "execution_count": 51,
   "metadata": {},
   "outputs": [],
   "source": [
    "def fibo(n):\n",
    "    fibo=[]\n",
    "    for i in range(0,n):\n",
    "        if i==0:\n",
    "            fibo.append(1)\n",
    "        fibo[i]=fibo[i-1]\n",
    "        fibo.append(fibo[i]+fibo[i-1])\n",
    "        \n",
    "        \n",
    "    \n"
   ]
  },
  {
   "cell_type": "code",
   "execution_count": 81,
   "metadata": {},
   "outputs": [],
   "source": [
    "def fib(n):\n",
    "    fib=[]\n",
    "    if n==0:\n",
    "        fib.append(1)\n",
    "        return(1)\n",
    "    elif n==1:\n",
    "        fib.append(1)\n",
    "        fib.append(1)\n",
    "        return(1)\n",
    "    for i in range(2,n):\n",
    "        fib.append(fib[i-2]+fib[i-1])\n",
    "    return(fib[n])"
   ]
  },
  {
   "cell_type": "code",
   "execution_count": 82,
   "metadata": {},
   "outputs": [
    {
     "ename": "IndexError",
     "evalue": "list index out of range",
     "output_type": "error",
     "traceback": [
      "\u001b[1;31m---------------------------------------------------------------------------\u001b[0m",
      "\u001b[1;31mIndexError\u001b[0m                                Traceback (most recent call last)",
      "\u001b[1;32m<ipython-input-82-1741d4083c58>\u001b[0m in \u001b[0;36m<module>\u001b[1;34m\u001b[0m\n\u001b[1;32m----> 1\u001b[1;33m \u001b[0mfib\u001b[0m\u001b[1;33m(\u001b[0m\u001b[1;36m2\u001b[0m\u001b[1;33m)\u001b[0m\u001b[1;33m\u001b[0m\u001b[1;33m\u001b[0m\u001b[0m\n\u001b[0m",
      "\u001b[1;32m<ipython-input-81-2735dac4551a>\u001b[0m in \u001b[0;36mfib\u001b[1;34m(n)\u001b[0m\n\u001b[0;32m     10\u001b[0m     \u001b[1;32mfor\u001b[0m \u001b[0mi\u001b[0m \u001b[1;32min\u001b[0m \u001b[0mrange\u001b[0m\u001b[1;33m(\u001b[0m\u001b[1;36m2\u001b[0m\u001b[1;33m,\u001b[0m\u001b[0mn\u001b[0m\u001b[1;33m)\u001b[0m\u001b[1;33m:\u001b[0m\u001b[1;33m\u001b[0m\u001b[1;33m\u001b[0m\u001b[0m\n\u001b[0;32m     11\u001b[0m         \u001b[0mfib\u001b[0m\u001b[1;33m.\u001b[0m\u001b[0mappend\u001b[0m\u001b[1;33m(\u001b[0m\u001b[0mfib\u001b[0m\u001b[1;33m[\u001b[0m\u001b[0mi\u001b[0m\u001b[1;33m-\u001b[0m\u001b[1;36m2\u001b[0m\u001b[1;33m]\u001b[0m\u001b[1;33m+\u001b[0m\u001b[0mfib\u001b[0m\u001b[1;33m[\u001b[0m\u001b[0mi\u001b[0m\u001b[1;33m-\u001b[0m\u001b[1;36m1\u001b[0m\u001b[1;33m]\u001b[0m\u001b[1;33m)\u001b[0m\u001b[1;33m\u001b[0m\u001b[1;33m\u001b[0m\u001b[0m\n\u001b[1;32m---> 12\u001b[1;33m     \u001b[1;32mreturn\u001b[0m\u001b[1;33m(\u001b[0m\u001b[0mfib\u001b[0m\u001b[1;33m[\u001b[0m\u001b[0mn\u001b[0m\u001b[1;33m]\u001b[0m\u001b[1;33m)\u001b[0m\u001b[1;33m\u001b[0m\u001b[1;33m\u001b[0m\u001b[0m\n\u001b[0m",
      "\u001b[1;31mIndexError\u001b[0m: list index out of range"
     ]
    }
   ],
   "source": [
    "fib(2)"
   ]
  },
  {
   "cell_type": "code",
   "execution_count": 87,
   "metadata": {},
   "outputs": [],
   "source": [
    "file=open(\"C:/Users/ANAVADYA/Desktop/hello.txt\",\"r\")"
   ]
  },
  {
   "cell_type": "code",
   "execution_count": 108,
   "metadata": {},
   "outputs": [
    {
     "name": "stdout",
     "output_type": "stream",
     "text": [
      "Word Length 1 : 0\n",
      "Word Length 2 : 3\n",
      "Word Length 3 : 3\n"
     ]
    }
   ],
   "source": [
    "with open(\"C:/Users/ANAVADYA/Desktop/hello.txt\",\"r\") as file:\n",
    "    data=file.read()\n",
    "    c1=0\n",
    "    c2=0\n",
    "    c3=0\n",
    "    for word in data.split():\n",
    "        word_length=len(word)\n",
    "        if word_length==1:\n",
    "            c1+=1\n",
    "        elif word_length==2:\n",
    "            c2+=1\n",
    "        elif word_length==3:\n",
    "            c3+=1\n",
    "        else:\n",
    "            print(0)\n",
    "print(\"Word Length 1 :\",c1)\n",
    "print(\"Word Length 2 :\",c2)\n",
    "print(\"Word Length 3 :\",c3)\n",
    "        "
   ]
  },
  {
   "cell_type": "code",
   "execution_count": null,
   "metadata": {},
   "outputs": [],
   "source": [
    "def Isprimenumber(i):\n",
    "        if i==1:\n",
    "            print(i,\"is not a prime number\")\n",
    "        elif (i%2!=0 and i%3!=0 and i%2!=5)or((i==2)or(i==3)):\n",
    "            print(i,\"is a prime number\")\n",
    "        else:\n",
    "            print(i,\"is not a prime number\")\n",
    "            "
   ]
  },
  {
   "cell_type": "code",
   "execution_count": null,
   "metadata": {},
   "outputs": [],
   "source": [
    "def primenumbersupto(n):\n",
    "    s=[]\n",
    "    for i in range(2,n+1):\n",
    "        if (i%2!=0 and i%3!=0 and i%2!=5)or ((i==2)or(i==3)):\n",
    "            s.append(i)\n",
    "    return s"
   ]
  },
  {
   "cell_type": "code",
   "execution_count": null,
   "metadata": {},
   "outputs": [],
   "source": [
    "def fib(f):\n",
    "    a=0\n",
    "    b=1\n",
    "    s=0\n",
    "    while s<f:\n",
    "        print(a)\n",
    "        c=a+b\n",
    "        a=b\n",
    "        b=c\n",
    "        s+=1\n",
    "    "
   ]
  },
  {
   "cell_type": "code",
   "execution_count": null,
   "metadata": {},
   "outputs": [],
   "source": [
    "def fib(n):\n",
    "    a=0\n",
    "    b=1\n",
    "    print(a)\n",
    "    print(b)\n",
    "    for i in range(0,n-2):\n",
    "        c=a+b\n",
    "        a,b=b,c\n",
    "        print(c)\n",
    "        "
   ]
  },
  {
   "cell_type": "code",
   "execution_count": null,
   "metadata": {},
   "outputs": [],
   "source": [
    "n=5\n",
    "s=[0,1]\n",
    "for i in range(0,n-2):\n",
    "    c=s[-1]+s[-2]\n",
    "    s.append(c)\n",
    "print(s)    \n",
    "    "
   ]
  },
  {
   "cell_type": "code",
   "execution_count": null,
   "metadata": {},
   "outputs": [],
   "source": [
    "#leapyear\n",
    "x=1700\n",
    "if x%4==0 or (x%100==0 and x%400==0):\n",
    "    print(x,\"is leap year\")\n",
    "else:\n",
    "    print(x,\"is not a leap year\")"
   ]
  },
  {
   "cell_type": "code",
   "execution_count": null,
   "metadata": {},
   "outputs": [],
   "source": [
    "students=[]\n",
    "for i in range(int(input(\"Total Inputs: \"))):\n",
    "    name=input(\"name: \")\n",
    "    score=float(input(\"score:\"))\n",
    "    students.append([name,score])\n",
    "print(students)\n",
    "students.sort(key=lambda x:x[1])\n",
    "lowest=students[0][1]\n",
    "sec_lowest=float('inf')\n",
    "for name,score in students:\n",
    "    if score>lowest:\n",
    "        sec_lowest=score\n",
    "        break\n",
    "sec_lowest_students=[name for name,score in students if score==sec_lowest]\n",
    "sec_lowest_students.sort()\n",
    "for name in sec_lowest_students:\n",
    "    print(name)\n",
    "\n"
   ]
  },
  {
   "cell_type": "code",
   "execution_count": null,
   "metadata": {},
   "outputs": [],
   "source": [
    "students=[['rfg', 5.0], ['gf', 2.0],['bc',8],['cv',5.0],['rf',11]]\n",
    "students.sort(key=lambda x:x[1])\n",
    "lowest=students[0][1]\n",
    "sec_lowest=float('inf')\n",
    "for name,score in students:\n",
    "    if score>lowest:\n",
    "        sec_lowest=score\n",
    "        break\n",
    "sec_lowest_students=[name for name,score in students if score==sec_lowest]\n",
    "sec_lowest_students.sort()\n",
    "for name in sec_lowest_students:\n",
    "    print(name)"
   ]
  },
  {
   "cell_type": "code",
   "execution_count": null,
   "metadata": {},
   "outputs": [],
   "source": [
    "a = [3.2, 5.7, 1.4, 8.9, 2.3]\n",
    "b=0\n",
    "for i in a:\n",
    "    if i<b and i!=max(b):\n",
    "        b=i\n",
    "print(i)"
   ]
  },
  {
   "cell_type": "code",
   "execution_count": null,
   "metadata": {},
   "outputs": [],
   "source": [
    "board=[['rfg', 5.0], ['gf', 2.0],['bc',8],['cv',10],['rf',11]]\n",
    "num=0\n",
    "minname=\"\"\n",
    "for i,j in board:\n",
    "    if j<num and j!=max(board( key=lambda x: x[1])):\n",
    "        num=j\n",
    "        maxname=[i]\n",
    "    elif j==num:\n",
    "        minname.append(i)\n",
    "for i in minname:\n",
    "    print(minname)\n",
    "    "
   ]
  },
  {
   "cell_type": "code",
   "execution_count": null,
   "metadata": {},
   "outputs": [],
   "source": [
    "board=[]\n",
    "for i in range(int(input())):\n",
    "    name=input()\n",
    "    score=float(input())\n",
    "    board.append([name,score])\n"
   ]
  },
  {
   "cell_type": "code",
   "execution_count": null,
   "metadata": {},
   "outputs": [],
   "source": [
    "fseries=[3.2,5.5,6.8]\n",
    "maxseries=fseries[0]\n",
    "for num in fseries:\n",
    "    if num > maxseries:\n",
    "        maxseries=num\n",
    "print(num)\n"
   ]
  },
  {
   "cell_type": "code",
   "execution_count": null,
   "metadata": {},
   "outputs": [],
   "source": [
    "# Example series of floats\n",
    "a = [3.2, 5.7, 1.4, 8.9, 2.3]\n",
    "b=0\n",
    "for i in a:\n",
    "    if i<b and i!=max(b):\n",
    "        b=i\n",
    "print(i)\n",
    "    \n"
   ]
  },
  {
   "cell_type": "code",
   "execution_count": null,
   "metadata": {},
   "outputs": [],
   "source": [
    "mat=[]\n",
    "for i in range(3):\n",
    "    mat.append([i])\n",
    "    for j in [3,4]:\n",
    "        mat[i].append(j)\n",
    "        print(mat)"
   ]
  },
  {
   "cell_type": "code",
   "execution_count": null,
   "metadata": {},
   "outputs": [],
   "source": [
    "matrix = []\n",
    "for i in range(5):\n",
    "\t# Append an empty sublist inside the list\n",
    "\tmatrix.append([])\n",
    "\tfor j in range(5):\n",
    "\t\tmatrix[i].append(j)\n",
    "print(matrix)\n"
   ]
  },
  {
   "cell_type": "code",
   "execution_count": null,
   "metadata": {},
   "outputs": [],
   "source": [
    "N=int(input(\"Total Inputs= \"))\n",
    "l=[]\n",
    "for b in range(N):\n",
    "    c=input().strip().split()\n",
    "    if c[0]==\"insert\":\n",
    "        i=int(c[1])\n",
    "        e=int(c[2])\n",
    "        l.insert(i,e)\n",
    "    elif c[0]==\"print\":\n",
    "        print(l)\n",
    "    elif c[0]==\"remove\":\n",
    "        e=int(c[1])\n",
    "        l.remove(e)\n",
    "    elif c[0]==\"append\":\n",
    "        e=int(c[1])\n",
    "        l.append(e)\n",
    "    elif c[0]==\"sort\":\n",
    "        l.sort()\n",
    "    elif c[0]==\"pop\":\n",
    "        if l:\n",
    "            l.pop()\n",
    "    elif c[0]==\"reverse\":\n",
    "        l.reverse()"
   ]
  },
  {
   "cell_type": "code",
   "execution_count": null,
   "metadata": {},
   "outputs": [],
   "source": [
    "def swap(s):\n",
    "    for i in s:\n",
    "         if i.islower():\n",
    "            print(i.upper(),end=\"\")\n",
    "         elif i.isupper():\n",
    "            print(i.lower(),end=\"\")\n",
    "         else:\n",
    "            print(i,end=\"\")\n",
    "    return(s)\n",
    "swap('AAbb$#@')\n"
   ]
  },
  {
   "cell_type": "code",
   "execution_count": null,
   "metadata": {},
   "outputs": [],
   "source": [
    "def swap(s):\n",
    "    result = \"\"  # Start with an empty string\n",
    "    for i in s:\n",
    "        if i.islower():\n",
    "            result += i.upper()  # Concatenate the uppercase character\n",
    "        elif i.isupper():\n",
    "            result += i.lower()  # Concatenate the lowercase character\n",
    "        else:\n",
    "            result += i  # Concatenate the non-alphabetic character as is\n",
    "    return result  # Return the final result string\n",
    "s = input()\n",
    "result = swap(s)  # Get the swapped case string\n",
    "print(result)  # Print the result\n"
   ]
  },
  {
   "cell_type": "code",
   "execution_count": null,
   "metadata": {},
   "outputs": [],
   "source": [
    "s='VinU'\n",
    "for i in s:\n",
    "    if i.islower():\n",
    "        print(i.upper(),end=\"\")\n",
    "    elif i.isupper():\n",
    "        print(i.lower(),end=\"\")\n",
    "    else:\n",
    "        print(i,end=\"\")\n",
    "print(s)"
   ]
  },
  {
   "cell_type": "code",
   "execution_count": null,
   "metadata": {},
   "outputs": [],
   "source": [
    "def fizzbuzz(n):\n",
    "    for i in range(1,n+1):\n",
    "        if i%3==0 and i%5==0:\n",
    "            print(\"FizzBuzz\")\n",
    "        elif i%3==0:\n",
    "            print(\"Fizz\")\n",
    "        elif i%5==0:\n",
    "            print(\"Buzz\")\n",
    "        else:\n",
    "            print(str(i))\n",
    "    \n",
    "    \n",
    "\n",
    "def split_wise(line):\n",
    "    words=line.split(\" \")\n",
    "    result=\"-\".join(words)\n",
    "    return result\n",
    "line=input()\n",
    "\n",
    "\n",
    "\n",
    "\n",
    "\n",
    "\n",
    "\n",
    "\n",
    "\n",
    "\n",
    "\n",
    "\n",
    "for stu in students:\n",
    "    msg='{0:10}{1:10} {2:10} {3:8}\\n'.format(stu[0],stu[1],stu[2],stu[3])       \n",
    "    print(msg)\n",
    "    \n",
    "head='{0:12}{1:12}{2:12}{3:12}'.format(\"first\",'last','year','grade')\n",
    "print(head)\n",
    "for stu in students:\n",
    "    msg='{0:10}{1:10} {2:10} {3:8}\\n'.format(stu[0],stu[1],stu[2],stu[3])       \n",
    "    print(msg)\n",
    "    \n",
    "\n",
    "import time\n",
    "time.localtime()\n",
    "\n",
    "time.strftime('%a %d/%m/%y %I:%M %p %z')\n",
    "\n",
    "number=input()\n",
    "c=number.split()\n",
    "print(c)\n",
    "\n",
    "def format_number(n):\n",
    "    print(\"{:,}\".format(n))\n",
    "format_number(1000000)"
   ]
  },
  {
   "cell_type": "code",
   "execution_count": null,
   "metadata": {},
   "outputs": [],
   "source": [
    "with open(\"C:/Users/ANAVADYA/Downloads/u r welcome.txt\",\"w\") as file:\n",
    "    file.write(\"hdfsjl\")\n",
    "    file.write(\"hab\")\n",
    "\n",
    "file=open(\"C:/Users/ANAVADYA/Downloads/u r welcome.txt\",\"w\")\n",
    "file.write(\"hello\\nnavanii\")\n",
    "file.write(\"\\nwhere are you?\")\n",
    "file.close()\n",
    "\n",
    "file=open(\"C:/Users/ANAVADYA/Downloads/u r welcome.txt\",\"a\")\n",
    "file.write(\"\\nhow's the climate there?\")"
   ]
  },
  {
   "cell_type": "code",
   "execution_count": null,
   "metadata": {},
   "outputs": [],
   "source": []
  },
  {
   "cell_type": "code",
   "execution_count": null,
   "metadata": {},
   "outputs": [],
   "source": []
  },
  {
   "cell_type": "code",
   "execution_count": null,
   "metadata": {},
   "outputs": [],
   "source": []
  }
 ],
 "metadata": {
  "kernelspec": {
   "display_name": "Python 3",
   "language": "python",
   "name": "python3"
  },
  "language_info": {
   "codemirror_mode": {
    "name": "ipython",
    "version": 3
   },
   "file_extension": ".py",
   "mimetype": "text/x-python",
   "name": "python",
   "nbconvert_exporter": "python",
   "pygments_lexer": "ipython3",
   "version": "3.8.5"
  }
 },
 "nbformat": 4,
 "nbformat_minor": 4
}
